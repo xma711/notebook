{
 "cells": [
  {
   "cell_type": "markdown",
   "metadata": {},
   "source": [
    "### This is an ipython script to show that it can be executed in ipython notebook, ipython command line and python command line\n",
    "\n",
    "### Notes: \n",
    "It is better not use ipython-specific commands here. \n",
    "\n",
    "So that the file can be exported to a python script,\n",
    "and then it can be executed with either python or ipython."
   ]
  },
  {
   "cell_type": "code",
   "execution_count": 2,
   "metadata": {
    "collapsed": false
   },
   "outputs": [
    {
     "name": "stdout",
     "output_type": "stream",
     "text": [
      "hello world!\n"
     ]
    }
   ],
   "source": [
    "print (\"hello world!\")"
   ]
  },
  {
   "cell_type": "code",
   "execution_count": 4,
   "metadata": {
    "collapsed": false
   },
   "outputs": [
    {
     "name": "stdout",
     "output_type": "stream",
     "text": [
      "array1 =\n",
      " [[1 2 3]\n",
      " [4 5 6]]\n",
      "array2 =\n",
      " [[10 20]\n",
      " [30 40]\n",
      " [50 60]]\n"
     ]
    }
   ],
   "source": [
    "import numpy as np\n",
    "\n",
    "array1 = np.matrix( [ [1,2,3], [4,5,6]  ]  )\n",
    "array2 = np.matrix( [ [10, 20], [30, 40], [50, 60] ] )\n",
    "\n",
    "print (\"array1 =\\n\", array1)\n",
    "print (\"array2 =\\n\", array2)"
   ]
  },
  {
   "cell_type": "code",
   "execution_count": 14,
   "metadata": {
    "collapsed": false
   },
   "outputs": [],
   "source": [
    "# try plotting package\n",
    "import matplotlib.pyplot as plt\n",
    "\n",
    "xstart = 0\n",
    "xend = 6\n",
    "datalength = 100\n",
    "x=np.linspace(xstart, xend, datalength)\n",
    "y1=np.sin(x)\n",
    "y2 = np.random.normal(scale=1, size=datalength)\n",
    "\n",
    "image1 = plt.plot(x,y1)\n",
    "plt.savefig('/tmp/image1.png')\n",
    "#plt.show()\n",
    "\n",
    "# without clearing image1, image2 will be overlayed on top of image1\n",
    "image2 = plt.plot(x,y2)\n",
    "\n",
    "# save the image in a certain location\n",
    "plt.savefig('/tmp/image2.png')\n",
    "\n",
    "# display the image\n",
    "plt.show()"
   ]
  },
  {
   "cell_type": "code",
   "execution_count": null,
   "metadata": {
    "collapsed": true
   },
   "outputs": [],
   "source": [
    "# try the pandas package, which runs on top of numpy\n",
    "import pandas as pd\n",
    "\n"
   ]
  }
 ],
 "metadata": {
  "kernelspec": {
   "display_name": "Python [Root]",
   "language": "python",
   "name": "Python [Root]"
  },
  "language_info": {
   "codemirror_mode": {
    "name": "ipython",
    "version": 3
   },
   "file_extension": ".py",
   "mimetype": "text/x-python",
   "name": "python",
   "nbconvert_exporter": "python",
   "pygments_lexer": "ipython3",
   "version": "3.5.2"
  }
 },
 "nbformat": 4,
 "nbformat_minor": 0
}
